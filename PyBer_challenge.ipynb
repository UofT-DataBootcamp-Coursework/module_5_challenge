{
 "cells": [
  {
   "cell_type": "code",
   "execution_count": 1,
   "metadata": {},
   "outputs": [],
   "source": [
    "# Add Matplotlib inline magic command\n",
    "%matplotlib inline\n",
    "\n",
    "# Dependencies and setup\n",
    "import matplotlib.pyplot as plt\n",
    "import pandas as pd\n",
    "import numpy as np"
   ]
  },
  {
   "cell_type": "code",
   "execution_count": 2,
   "metadata": {},
   "outputs": [],
   "source": [
    "# Files to load\n",
    "city_data_to_load = \"Resources/city_data.csv\"\n",
    "ride_data_to_load = \"Resources/ride_data.csv\""
   ]
  },
  {
   "cell_type": "code",
   "execution_count": 3,
   "metadata": {},
   "outputs": [],
   "source": [
    "# Read the data files and store both as separate Pandas DataFrames\n",
    "city_data_df = pd.read_csv(city_data_to_load)\n",
    "# print(city_data_df.head())\n",
    "ride_data_df = pd.read_csv(ride_data_to_load)\n",
    "# print(ride_data_df.head())\n",
    "\n",
    "# ride_data_df"
   ]
  },
  {
   "cell_type": "code",
   "execution_count": 4,
   "metadata": {},
   "outputs": [],
   "source": [
    "# # INSPECT THE CITY DATA\n",
    "# # 1. Get the columns and the rows that are not null\n",
    "# print(city_data_df.count())\n",
    "\n",
    "# # 2. Get the columns and the rows that are null\n",
    "# print(city_data_df.isnull().sum())\n",
    "\n",
    "# # 3. Get the data types of each column\n",
    "# print(city_data_df.dtypes)\n",
    "\n",
    "# # 4. Get the unique values of the type of city\n",
    "# print(city_data_df[\"type\"].unique())\n",
    "\n",
    "# # 5. Get the number of data points from the Urban cities\n",
    "# print(sum(city_data_df[\"type\"]==\"Urban\"))\n",
    "# print(sum(city_data_df[\"type\"]==\"Suburban\"))\n",
    "# print(sum(city_data_df[\"type\"]==\"Rural\"))"
   ]
  },
  {
   "cell_type": "code",
   "execution_count": 5,
   "metadata": {},
   "outputs": [],
   "source": [
    "# # INSPECT THE RIDE DATA\n",
    "# # 1. Get the columns and the rows that are not null\n",
    "# print(ride_data_df.count())\n",
    "\n",
    "# # 2. Get the columns and the rows that are null\n",
    "# print(ride_data_df.isnull().sum())\n",
    "\n",
    "# # 3. Get the data types of each column\n",
    "# print(ride_data_df.dtypes)"
   ]
  },
  {
   "cell_type": "code",
   "execution_count": 6,
   "metadata": {},
   "outputs": [],
   "source": [
    "# Combine the data into a single dataset\n",
    "pyber_data_df = pd.merge(ride_data_df, city_data_df, how=\"left\", on=[\"city\",\"city\"])\n",
    "# pyber_data_df"
   ]
  },
  {
   "cell_type": "markdown",
   "metadata": {},
   "source": [
    "# Module 5 Challenge Psuedocode\n",
    "\n",
    "## Deliverable 1 - A Summary DataFrame\n",
    "1. Caculate total rides per city-type\n",
    "2. Caculate total drivers per city-type\n",
    "3. Caculate total fares per city-type\n",
    "4. Caculate average fare per ride per city-type\n",
    "5. Caculate average fare per driver per city-type\n",
    "6. Create new DataFrame\n",
    "7. Format new DataFrame"
   ]
  },
  {
   "cell_type": "code",
   "execution_count": 7,
   "metadata": {},
   "outputs": [],
   "source": [
    "# 1. Total rides per city-type\n",
    "total_rides = pyber_data_df.groupby([\"type\"]).count()[\"ride_id\"]\n",
    "# total_rides"
   ]
  },
  {
   "cell_type": "code",
   "execution_count": 8,
   "metadata": {},
   "outputs": [],
   "source": [
    "# 2. Total drivers per city-type\n",
    "total_drivers = city_data_df.groupby([\"type\"]).sum()[\"driver_count\"]\n",
    "# total_drivers"
   ]
  },
  {
   "cell_type": "code",
   "execution_count": 9,
   "metadata": {},
   "outputs": [],
   "source": [
    "# 3. Total fares per city-type\n",
    "total_fares = pyber_data_df.groupby([\"type\"]).sum()[\"fare\"]\n",
    "# total_fares"
   ]
  },
  {
   "cell_type": "code",
   "execution_count": 10,
   "metadata": {},
   "outputs": [],
   "source": [
    "# 4. Average fare per ride per city-type\n",
    "average_fare_ride = total_fares / total_rides\n",
    "# average_fare_ride"
   ]
  },
  {
   "cell_type": "code",
   "execution_count": 11,
   "metadata": {},
   "outputs": [],
   "source": [
    "# 5. Average fare per driver per city-type\n",
    "average_fare_driver = total_fares / total_drivers\n",
    "# average_fare_driver"
   ]
  },
  {
   "cell_type": "code",
   "execution_count": 12,
   "metadata": {},
   "outputs": [],
   "source": [
    "# 6. Creation of summary DataFrame \n",
    "challenge_summary_df = pd.DataFrame ({\n",
    "    \"Total Rides\": total_rides,\n",
    "    \"Total Drivers\": total_drivers,\n",
    "    \"Total Fares\": total_fares,\n",
    "    \"Average Fare per Ride\": average_fare_ride,\n",
    "    \"Average Fare per Driver\": average_fare_driver\n",
    "})\n",
    "# challenge_summary_df"
   ]
  },
  {
   "cell_type": "code",
   "execution_count": 13,
   "metadata": {},
   "outputs": [],
   "source": [
    "# 7. Format DataFrame\n",
    "challenge_summary_df.index.name = None\n",
    "challenge_summary_df[\"Total Rides\"] = challenge_summary_df[\"Total Rides\"].map(\"{:,.0f}\".format)\n",
    "challenge_summary_df[\"Total Drivers\"] = challenge_summary_df[\"Total Drivers\"].map(\"{:,.0f}\".format)\n",
    "challenge_summary_df[\"Total Fares\"] = challenge_summary_df[\"Total Fares\"].map(\"${:,.2f}\".format)\n",
    "challenge_summary_df[\"Average Fare per Ride\"] = challenge_summary_df[\"Average Fare per Ride\"].map(\"${:,.2f}\".format)\n",
    "challenge_summary_df[\"Average Fare per Driver\"] = challenge_summary_df[\"Average Fare per Driver\"].map(\"${:,.2f}\".format) "
   ]
  },
  {
   "cell_type": "code",
   "execution_count": 14,
   "metadata": {
    "scrolled": true
   },
   "outputs": [
    {
     "data": {
      "text/html": [
       "<div>\n",
       "<style scoped>\n",
       "    .dataframe tbody tr th:only-of-type {\n",
       "        vertical-align: middle;\n",
       "    }\n",
       "\n",
       "    .dataframe tbody tr th {\n",
       "        vertical-align: top;\n",
       "    }\n",
       "\n",
       "    .dataframe thead th {\n",
       "        text-align: right;\n",
       "    }\n",
       "</style>\n",
       "<table border=\"1\" class=\"dataframe\">\n",
       "  <thead>\n",
       "    <tr style=\"text-align: right;\">\n",
       "      <th></th>\n",
       "      <th>Total Rides</th>\n",
       "      <th>Total Drivers</th>\n",
       "      <th>Total Fares</th>\n",
       "      <th>Average Fare per Ride</th>\n",
       "      <th>Average Fare per Driver</th>\n",
       "    </tr>\n",
       "  </thead>\n",
       "  <tbody>\n",
       "    <tr>\n",
       "      <th>Rural</th>\n",
       "      <td>125</td>\n",
       "      <td>78</td>\n",
       "      <td>$4,327.93</td>\n",
       "      <td>$34.62</td>\n",
       "      <td>$55.49</td>\n",
       "    </tr>\n",
       "    <tr>\n",
       "      <th>Suburban</th>\n",
       "      <td>625</td>\n",
       "      <td>490</td>\n",
       "      <td>$19,356.33</td>\n",
       "      <td>$30.97</td>\n",
       "      <td>$39.50</td>\n",
       "    </tr>\n",
       "    <tr>\n",
       "      <th>Urban</th>\n",
       "      <td>1,625</td>\n",
       "      <td>2,405</td>\n",
       "      <td>$39,854.38</td>\n",
       "      <td>$24.53</td>\n",
       "      <td>$16.57</td>\n",
       "    </tr>\n",
       "  </tbody>\n",
       "</table>\n",
       "</div>"
      ],
      "text/plain": [
       "         Total Rides Total Drivers Total Fares Average Fare per Ride  \\\n",
       "Rural            125            78   $4,327.93                $34.62   \n",
       "Suburban         625           490  $19,356.33                $30.97   \n",
       "Urban          1,625         2,405  $39,854.38                $24.53   \n",
       "\n",
       "         Average Fare per Driver  \n",
       "Rural                     $55.49  \n",
       "Suburban                  $39.50  \n",
       "Urban                     $16.57  "
      ]
     },
     "execution_count": 14,
     "metadata": {},
     "output_type": "execute_result"
    }
   ],
   "source": [
    "challenge_summary_df"
   ]
  },
  {
   "cell_type": "markdown",
   "metadata": {},
   "source": [
    "# Module 5 Challenge Psuedocode\n",
    "\n",
    "## Deliverable 2 - Multi-Line Plot for the Sum of the Fares for Each City Type\n",
    "1. Modify pyber_data_df by renaming columns\n",
    "2. Set the index to the Date column\n",
    "3. Create new DataFrame - include Fares, City Type, and index = Date\n",
    "4. Set index to the datetime data type\n",
    "5. Calculate the total fares by type of city and date then convert the groupby Series into a DataFrame\n",
    "6. Reset the index, create pivot table DataFrame with Date as index\n",
    "7. Create new DataFrame from pivot table DataFrame on the given dates\n",
    "8. Create new DataFrame using resample() in weekly bins and calculate the total of the fares for each week\n",
    "9. Using object-oriented interface method, plot the DataFrame\n",
    "    -Import the style from Matplotlib.\n",
    "    -Use the FiveThirtyEight (Links to an external site.) graph style.\n",
    "    -Add a title.\n",
    "    -Add x- and y-axis labels according to the final figure.\n",
    "    -Save the figure to the “analysis” folder.\n",
    "    -Make the figure size large enough so it’s not too small."
   ]
  },
  {
   "cell_type": "code",
   "execution_count": 15,
   "metadata": {},
   "outputs": [],
   "source": [
    "# 1. Rename columns\n",
    "pyber_data_df = pyber_data_df.rename(columns={\n",
    "                                        'city':'City', \n",
    "                                        'date':'Date',\n",
    "                                        'fare':'Fare', \n",
    "                                        'ride_id': 'Ride Id',\n",
    "                                        'driver_count': 'No. Drivers', \n",
    "                                        'type':'City Type'\n",
    "                                        })\n",
    "# pyber_data_df"
   ]
  },
  {
   "cell_type": "code",
   "execution_count": 16,
   "metadata": {},
   "outputs": [],
   "source": [
    "# 2. Set index to Date column\n",
    "pyber_data_df = pyber_data_df.set_index('Date')\n",
    "# pyber_data_df"
   ]
  },
  {
   "cell_type": "code",
   "execution_count": 17,
   "metadata": {},
   "outputs": [],
   "source": [
    "# 3. Create new DataFrame to include only City Type and Fare\n",
    "challenge_line_graph_df = pyber_data_df.loc[:,['City Type', 'Fare']].copy()\n",
    "# challenge_line_graph_df.head()"
   ]
  },
  {
   "cell_type": "code",
   "execution_count": 18,
   "metadata": {},
   "outputs": [],
   "source": [
    "# 4. Set the index to the datetime type\n",
    "challenge_line_graph_df.index = pd.to_datetime(challenge_line_graph_df.index)\n",
    "# challenge_line_graph_df"
   ]
  },
  {
   "cell_type": "code",
   "execution_count": 19,
   "metadata": {},
   "outputs": [],
   "source": [
    "# Confirm index is Datetime\n",
    "# challenge_line_graph_df.info()"
   ]
  },
  {
   "cell_type": "code",
   "execution_count": 20,
   "metadata": {},
   "outputs": [],
   "source": [
    "# 5 Calculate the total fares by the type of city and date to create a series then convert the groupby Series into a DataFrame\n",
    "challenge_line_graph_df = pd.DataFrame(challenge_line_graph_df.groupby([\"City Type\", \"Date\"]).sum()[\"Fare\"])\n",
    "# challenge_line_graph_df"
   ]
  },
  {
   "cell_type": "code",
   "execution_count": 21,
   "metadata": {},
   "outputs": [],
   "source": [
    "# 6. Reset the index, create a pivot table DataFrame with the Date as the index and columns = City Type\n",
    "challenge_line_graph_df = challenge_line_graph_df.reset_index()\n",
    "challenge_line_graph_df = pd.pivot_table(challenge_line_graph_df, values='Fare', index=['Date'], columns=['City Type'], aggfunc=np.sum)\n",
    "# challenge_line_graph_df"
   ]
  },
  {
   "cell_type": "code",
   "execution_count": 22,
   "metadata": {},
   "outputs": [],
   "source": [
    "# 7. Create new DataFrame from pivot table DataFrame on the given dates'2019-01-01':'2019-04-28'\n",
    "challenge_line_graph_df = pd.DataFrame(challenge_line_graph_df.loc['2019-01-01':'2019-04-28'])\n",
    "#challenge_line_graph_df"
   ]
  },
  {
   "cell_type": "code",
   "execution_count": 38,
   "metadata": {},
   "outputs": [
    {
     "data": {
      "text/html": [
       "<div>\n",
       "<style scoped>\n",
       "    .dataframe tbody tr th:only-of-type {\n",
       "        vertical-align: middle;\n",
       "    }\n",
       "\n",
       "    .dataframe tbody tr th {\n",
       "        vertical-align: top;\n",
       "    }\n",
       "\n",
       "    .dataframe thead th {\n",
       "        text-align: right;\n",
       "    }\n",
       "</style>\n",
       "<table border=\"1\" class=\"dataframe\">\n",
       "  <thead>\n",
       "    <tr style=\"text-align: right;\">\n",
       "      <th>City Type</th>\n",
       "      <th>Rural</th>\n",
       "      <th>Suburban</th>\n",
       "      <th>Urban</th>\n",
       "    </tr>\n",
       "    <tr>\n",
       "      <th>Date</th>\n",
       "      <th></th>\n",
       "      <th></th>\n",
       "      <th></th>\n",
       "    </tr>\n",
       "  </thead>\n",
       "  <tbody>\n",
       "    <tr>\n",
       "      <th>2019-01-06</th>\n",
       "      <td>187.92</td>\n",
       "      <td>721.60</td>\n",
       "      <td>1661.68</td>\n",
       "    </tr>\n",
       "    <tr>\n",
       "      <th>2019-01-13</th>\n",
       "      <td>67.65</td>\n",
       "      <td>1105.13</td>\n",
       "      <td>2050.43</td>\n",
       "    </tr>\n",
       "    <tr>\n",
       "      <th>2019-01-20</th>\n",
       "      <td>306.00</td>\n",
       "      <td>1218.20</td>\n",
       "      <td>1939.02</td>\n",
       "    </tr>\n",
       "    <tr>\n",
       "      <th>2019-01-27</th>\n",
       "      <td>179.69</td>\n",
       "      <td>1203.28</td>\n",
       "      <td>2129.51</td>\n",
       "    </tr>\n",
       "    <tr>\n",
       "      <th>2019-02-03</th>\n",
       "      <td>333.08</td>\n",
       "      <td>1042.79</td>\n",
       "      <td>2086.94</td>\n",
       "    </tr>\n",
       "    <tr>\n",
       "      <th>2019-02-10</th>\n",
       "      <td>115.80</td>\n",
       "      <td>974.34</td>\n",
       "      <td>2162.64</td>\n",
       "    </tr>\n",
       "    <tr>\n",
       "      <th>2019-02-17</th>\n",
       "      <td>95.82</td>\n",
       "      <td>1045.50</td>\n",
       "      <td>2235.07</td>\n",
       "    </tr>\n",
       "    <tr>\n",
       "      <th>2019-02-24</th>\n",
       "      <td>419.06</td>\n",
       "      <td>1412.74</td>\n",
       "      <td>2466.29</td>\n",
       "    </tr>\n",
       "    <tr>\n",
       "      <th>2019-03-03</th>\n",
       "      <td>175.14</td>\n",
       "      <td>858.46</td>\n",
       "      <td>2218.20</td>\n",
       "    </tr>\n",
       "    <tr>\n",
       "      <th>2019-03-10</th>\n",
       "      <td>303.94</td>\n",
       "      <td>925.27</td>\n",
       "      <td>2470.93</td>\n",
       "    </tr>\n",
       "    <tr>\n",
       "      <th>2019-03-17</th>\n",
       "      <td>163.39</td>\n",
       "      <td>906.20</td>\n",
       "      <td>2044.42</td>\n",
       "    </tr>\n",
       "    <tr>\n",
       "      <th>2019-03-24</th>\n",
       "      <td>189.76</td>\n",
       "      <td>1122.20</td>\n",
       "      <td>2368.37</td>\n",
       "    </tr>\n",
       "    <tr>\n",
       "      <th>2019-03-31</th>\n",
       "      <td>199.42</td>\n",
       "      <td>1045.06</td>\n",
       "      <td>1942.77</td>\n",
       "    </tr>\n",
       "    <tr>\n",
       "      <th>2019-04-07</th>\n",
       "      <td>501.24</td>\n",
       "      <td>1010.73</td>\n",
       "      <td>2356.70</td>\n",
       "    </tr>\n",
       "    <tr>\n",
       "      <th>2019-04-14</th>\n",
       "      <td>269.79</td>\n",
       "      <td>784.82</td>\n",
       "      <td>2390.72</td>\n",
       "    </tr>\n",
       "    <tr>\n",
       "      <th>2019-04-21</th>\n",
       "      <td>214.14</td>\n",
       "      <td>1149.27</td>\n",
       "      <td>2303.80</td>\n",
       "    </tr>\n",
       "    <tr>\n",
       "      <th>2019-04-28</th>\n",
       "      <td>191.85</td>\n",
       "      <td>1357.75</td>\n",
       "      <td>2238.29</td>\n",
       "    </tr>\n",
       "  </tbody>\n",
       "</table>\n",
       "</div>"
      ],
      "text/plain": [
       "City Type    Rural  Suburban    Urban\n",
       "Date                                 \n",
       "2019-01-06  187.92    721.60  1661.68\n",
       "2019-01-13   67.65   1105.13  2050.43\n",
       "2019-01-20  306.00   1218.20  1939.02\n",
       "2019-01-27  179.69   1203.28  2129.51\n",
       "2019-02-03  333.08   1042.79  2086.94\n",
       "2019-02-10  115.80    974.34  2162.64\n",
       "2019-02-17   95.82   1045.50  2235.07\n",
       "2019-02-24  419.06   1412.74  2466.29\n",
       "2019-03-03  175.14    858.46  2218.20\n",
       "2019-03-10  303.94    925.27  2470.93\n",
       "2019-03-17  163.39    906.20  2044.42\n",
       "2019-03-24  189.76   1122.20  2368.37\n",
       "2019-03-31  199.42   1045.06  1942.77\n",
       "2019-04-07  501.24   1010.73  2356.70\n",
       "2019-04-14  269.79    784.82  2390.72\n",
       "2019-04-21  214.14   1149.27  2303.80\n",
       "2019-04-28  191.85   1357.75  2238.29"
      ]
     },
     "execution_count": 38,
     "metadata": {},
     "output_type": "execute_result"
    }
   ],
   "source": [
    "# 8. Create a new DataFrame utilizing resample() function, place in weekly bins, and calculate the total of the fares for each week\n",
    "challenge_line_graph_df = pd.DataFrame(challenge_line_graph_df.resample('W').sum())\n",
    "challenge_line_graph_df"
   ]
  },
  {
   "cell_type": "code",
   "execution_count": 37,
   "metadata": {},
   "outputs": [
    {
     "data": {
      "text/plain": [
       "<matplotlib.legend.Legend at 0x2027043a448>"
      ]
     },
     "execution_count": 37,
     "metadata": {},
     "output_type": "execute_result"
    },
    {
     "data": {
      "image/png": "[encoded data removed]",
      "text/plain": [
       "<Figure size 1296x432 with 1 Axes>"
      ]
     },
     "metadata": {},
     "output_type": "display_data"
    }
   ],
   "source": [
    "# 9. Plot the line graph using object-oriented interface method\n",
    "\n",
    "plt.style.use('fivethirtyeight')\n",
    "\n",
    "fig, challenge = plt.subplots(figsize=(18,6))\n",
    "challenge.plot(challenge_line_graph_df['Rural'],label='Rural')\n",
    "challenge.plot(challenge_line_graph_df['Suburban'],label='Suburban')\n",
    "challenge.plot(challenge_line_graph_df['Urban'],label='Urban')\n",
    "\n",
    "# Add title and axes labels\n",
    "challenge.set_title('Total Fare by City Type')\n",
    "challenge.set_ylabel(\"Fares($USD)\")\n",
    "\n",
    "plt.xticks([737060.,  737091., 737119., 737150.,\n",
    "       737180.],[\"Jan\\n2019\", \"Feb\", \"Mar\", \"Apr\"])\n",
    "\n",
    "# Add a legend and grid\n",
    "challenge.legend(loc=\"center\", title=\"City Type\")"
   ]
  }
 ],
 "metadata": {
  "kernelspec": {
   "display_name": "PythonData",
   "language": "python",
   "name": "pythondata"
  },
  "language_info": {
   "codemirror_mode": {
    "name": "ipython",
    "version": 3
   },
   "file_extension": ".py",
   "mimetype": "text/x-python",
   "name": "python",
   "nbconvert_exporter": "python",
   "pygments_lexer": "ipython3",
   "version": "3.7.7"
  }
 },
 "nbformat": 4,
 "nbformat_minor": 4
}
